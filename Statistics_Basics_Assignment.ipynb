{
  "cells": [
    {
      "cell_type": "code",
      "execution_count": 1,
      "metadata": {
        "colab": {
          "base_uri": "https://localhost:8080/"
        },
        "id": "uGktbkwNILDP",
        "outputId": "a4151e22-29fd-4aa1-cd3d-fd90a750f300"
      },
      "outputs": [
        {
          "name": "stdout",
          "output_type": "stream",
          "text": [
            "mode: 12\n",
            "mean: 19.6\n",
            "median: 19\n"
          ]
        }
      ],
      "source": [
        "''' Question 5: Implement a Python program to compute the mean, median, and mode of a given list of numbers.\n",
        "numbers = [12, 15, 12, 18, 19, 12, 20, 22, 19, 19, 24, 24, 24, 26, 28]\n",
        " '''\n",
        "\n",
        "numbers = [12, 15, 12, 18, 19, 12, 20, 22, 19, 19, 24, 24, 24, 26, 28]\n",
        "import statistics as stat\n",
        "mode=stat.mode(numbers)\n",
        "mean=stat.mean(numbers)\n",
        "median=stat.median(numbers)\n",
        "print(\"mode:\",mode)\n",
        "print(\"mean:\",mean)\n",
        "print(\"median:\",median)\n"
      ]
    },
    {
      "cell_type": "code",
      "execution_count": 3,
      "metadata": {
        "colab": {
          "base_uri": "https://localhost:8080/"
        },
        "id": "IAI9dJK3Iysg",
        "outputId": "c72f495d-47fa-43aa-c04c-a706ff75ea7b"
      },
      "outputs": [
        {
          "name": "stdout",
          "output_type": "stream",
          "text": [
            "[[250. 275.]\n",
            " [275. 305.]]\n",
            "[[1.         0.99589321]\n",
            " [0.99589321 1.        ]]\n"
          ]
        }
      ],
      "source": [
        "''' Question 6: Compute the covariance and correlation coefficient between the following two datasets provided as lists in Python:\n",
        " list_x = [10, 20, 30, 40, 50]\n",
        "list_y = [15, 25, 35, 45, 60]\n",
        " '''\n",
        "\n",
        "list_x = [10, 20, 30, 40, 50]\n",
        "list_y = [15, 25, 35, 45, 60]\n",
        "\n",
        "import numpy as np\n",
        "print(np.cov(list_x,list_y))\n",
        "print(np.corrcoef(list_x,list_y))\n"
      ]
    },
    {
      "cell_type": "code",
      "execution_count": 4,
      "metadata": {
        "colab": {
          "base_uri": "https://localhost:8080/",
          "height": 430
        },
        "id": "zOUzRseII7AG",
        "outputId": "54b5f302-24bd-4d11-dac1-7c56b22f032e"
      },
      "outputs": [
        {
          "data": {
            "image/png": "[encoded data removed]",
            "text/plain": [
              "<Figure size 640x480 with 1 Axes>"
            ]
          },
          "metadata": {},
          "output_type": "display_data"
        }
      ],
      "source": [
        "''' Question 7: Write a Python script to draw a boxplot for the following numeric list and identify its outliers. Explain the result:\n",
        "data = [12, 14, 14, 15, 18, 19, 19, 21, 22, 22, 23, 23, 24, 26, 29, 35]\n",
        " '''\n",
        "\n",
        "import matplotlib.pyplot as plt\n",
        "data=[12, 14, 14, 15, 18, 19, 19, 21, 22, 22, 23, 23, 24, 26, 29, 35]\n",
        "plt.boxplot(data)\n",
        "plt.show()"
      ]
    },
    {
      "cell_type": "code",
      "execution_count": 5,
      "metadata": {
        "colab": {
          "base_uri": "https://localhost:8080/"
        },
        "id": "qLNcQ_yOJFz7",
        "outputId": "643c213e-8366-4e77-a849-bb55e01cbcfc"
      },
      "outputs": [
        {
          "name": "stdout",
          "output_type": "stream",
          "text": [
            "Correlation :                    advertising_spend  daily_sales\n",
            "advertising_spend           1.000000    -0.527276\n",
            "daily_sales                -0.527276     1.000000\n",
            "\n",
            " \n",
            " Covariance :                    advertising_spend  daily_sales\n",
            "advertising_spend            14500.0     -68125.0\n",
            "daily_sales                 -68125.0    1151250.0\n"
          ]
        }
      ],
      "source": [
        "''' Question 8: You are working as a data analyst in an e-commerce company. The marketing team wants to know if there is a relationship between advertising spend and daily sales.\n",
        "advertising_spend = [200, 250, 300, 400, 500]\n",
        "daily_sales = [2200, 2450, 2750, 3200, 4000]\n",
        " '''\n",
        "\n",
        "advertising_spend = [200, 250, 300, 400, 500]\n",
        "daily_sales = [2200, 2450, 2750, 3200, 400]\n",
        "\n",
        "import pandas as pd\n",
        "df=pd.DataFrame({'advertising_spend':advertising_spend,'daily_sales':daily_sales})\n",
        "df\n",
        "corr=df.corr()\n",
        "cov=df.cov()\n",
        "print(\"Correlation :\",corr)\n",
        "print(\"\\n \\n Covariance :\",cov)"
      ]
    },
    {
      "cell_type": "code",
      "execution_count": null,
      "metadata": {
        "colab": {
          "base_uri": "https://localhost:8080/",
          "height": 541
        },
        "id": "Yr_NV9snJbyv",
        "outputId": "c28f0f8a-f7c1-4f07-e541-7a5af3558519"
      },
      "outputs": [
        {
          "name": "stdout",
          "output_type": "stream",
          "text": [
            "Mean: 7.333333333333333\n",
            "Median: 7\n",
            "Mode: 7\n",
            "Standard Deviation: 1.632993161855452\n"
          ]
        },
        {
          "data": {
            "image/png": "[encoded data removed]",
            "text/plain": [
              "<Figure size 640x480 with 1 Axes>"
            ]
          },
          "metadata": {},
          "output_type": "display_data"
        }
      ],
      "source": [
        "''' Question 9: Your team has collected customer satisfaction survey data on a scale of 1-10 and wants to understand its distribution before launching a new product.\n",
        "● Explain which summary statistics and visualizations (e.g. mean, standard deviation, histogram) you’d use.\n",
        "● Write Python code to create a histogram using Matplotlib for the survey data:\n",
        "survey_scores = [7, 8, 5, 9, 6, 7, 8, 9, 10, 4, 7, 6, 9, 8, 7]\n",
        " '''\n",
        "\n",
        "import matplotlib.pyplot as plt\n",
        "import numpy as np\n",
        "import statistics as stat\n",
        "\n",
        "survey_scores = [7, 8, 5, 9, 6, 7, 8, 9, 10, 4, 7, 6, 9, 8, 7]\n",
        "print(\"Mean:\", stat.mean(survey_scores))\n",
        "print(\"Median:\", stat.median(survey_scores))\n",
        "print(\"Mode:\", stat.mode(survey_scores))\n",
        "print(\"Standard Deviation:\", stat.stdev(survey_scores))\n",
        "\n",
        "plt.hist(survey_scores)\n",
        "plt.title(\"Customer Satisfaction Survey\")\n",
        "plt.xlabel(\"Satisfaction Score\")\n",
        "plt.ylabel(\"Frequency\")\n",
        "plt.show()\n"
      ]
    }
  ],
  "metadata": {
    "colab": {
      "provenance": []
    },
    "kernelspec": {
      "display_name": "Python 3",
      "name": "python3"
    },
    "language_info": {
      "name": "python"
    }
  },
  "nbformat": 4,
  "nbformat_minor": 0
}
